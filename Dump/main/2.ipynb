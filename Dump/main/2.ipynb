{
 "cells": [
  {
   "cell_type": "code",
   "execution_count": 1,
   "metadata": {},
   "outputs": [
    {
     "data": {
      "text/html": [
       "<div>\n",
       "<style scoped>\n",
       "    .dataframe tbody tr th:only-of-type {\n",
       "        vertical-align: middle;\n",
       "    }\n",
       "\n",
       "    .dataframe tbody tr th {\n",
       "        vertical-align: top;\n",
       "    }\n",
       "\n",
       "    .dataframe thead th {\n",
       "        text-align: right;\n",
       "    }\n",
       "</style>\n",
       "<table border=\"1\" class=\"dataframe\">\n",
       "  <thead>\n",
       "    <tr style=\"text-align: right;\">\n",
       "      <th></th>\n",
       "      <th>X1</th>\n",
       "      <th>X2</th>\n",
       "      <th>X3</th>\n",
       "      <th>X4</th>\n",
       "      <th>X5</th>\n",
       "      <th>X6</th>\n",
       "      <th>X7</th>\n",
       "      <th>X8</th>\n",
       "      <th>Y1</th>\n",
       "      <th>Y2</th>\n",
       "    </tr>\n",
       "  </thead>\n",
       "  <tbody>\n",
       "    <tr>\n",
       "      <th>0</th>\n",
       "      <td>0.98</td>\n",
       "      <td>514.5</td>\n",
       "      <td>294.0</td>\n",
       "      <td>110.25</td>\n",
       "      <td>7.0</td>\n",
       "      <td>2</td>\n",
       "      <td>0.0</td>\n",
       "      <td>0</td>\n",
       "      <td>15.55</td>\n",
       "      <td>21.33</td>\n",
       "    </tr>\n",
       "    <tr>\n",
       "      <th>1</th>\n",
       "      <td>0.98</td>\n",
       "      <td>514.5</td>\n",
       "      <td>294.0</td>\n",
       "      <td>110.25</td>\n",
       "      <td>7.0</td>\n",
       "      <td>3</td>\n",
       "      <td>0.0</td>\n",
       "      <td>0</td>\n",
       "      <td>15.55</td>\n",
       "      <td>21.33</td>\n",
       "    </tr>\n",
       "    <tr>\n",
       "      <th>2</th>\n",
       "      <td>0.98</td>\n",
       "      <td>514.5</td>\n",
       "      <td>294.0</td>\n",
       "      <td>110.25</td>\n",
       "      <td>7.0</td>\n",
       "      <td>4</td>\n",
       "      <td>0.0</td>\n",
       "      <td>0</td>\n",
       "      <td>15.55</td>\n",
       "      <td>21.33</td>\n",
       "    </tr>\n",
       "    <tr>\n",
       "      <th>3</th>\n",
       "      <td>0.98</td>\n",
       "      <td>514.5</td>\n",
       "      <td>294.0</td>\n",
       "      <td>110.25</td>\n",
       "      <td>7.0</td>\n",
       "      <td>5</td>\n",
       "      <td>0.0</td>\n",
       "      <td>0</td>\n",
       "      <td>15.55</td>\n",
       "      <td>21.33</td>\n",
       "    </tr>\n",
       "    <tr>\n",
       "      <th>4</th>\n",
       "      <td>0.90</td>\n",
       "      <td>563.5</td>\n",
       "      <td>318.5</td>\n",
       "      <td>122.50</td>\n",
       "      <td>7.0</td>\n",
       "      <td>2</td>\n",
       "      <td>0.0</td>\n",
       "      <td>0</td>\n",
       "      <td>20.84</td>\n",
       "      <td>28.28</td>\n",
       "    </tr>\n",
       "  </tbody>\n",
       "</table>\n",
       "</div>"
      ],
      "text/plain": [
       "     X1     X2     X3      X4   X5  X6   X7  X8     Y1     Y2\n",
       "0  0.98  514.5  294.0  110.25  7.0   2  0.0   0  15.55  21.33\n",
       "1  0.98  514.5  294.0  110.25  7.0   3  0.0   0  15.55  21.33\n",
       "2  0.98  514.5  294.0  110.25  7.0   4  0.0   0  15.55  21.33\n",
       "3  0.98  514.5  294.0  110.25  7.0   5  0.0   0  15.55  21.33\n",
       "4  0.90  563.5  318.5  122.50  7.0   2  0.0   0  20.84  28.28"
      ]
     },
     "execution_count": 1,
     "metadata": {},
     "output_type": "execute_result"
    }
   ],
   "source": [
    "import pandas as pd\n",
    "\n",
    "df = pd.read_csv(\"ENB2012_data.csv\")\n",
    "df.head()"
   ]
  },
  {
   "cell_type": "markdown",
   "metadata": {},
   "source": [
    "Specifically:\n",
    "X1 Relative Compactness\n",
    "X2 Surface Area\n",
    "X3 Wall Area\n",
    "X4 Roof Area\n",
    "X5 Overall Height\n",
    "X6 Orientation\n",
    "X7 Glazing Area\n",
    "X8 Glazing Area Distribution\n",
    "y1 Heating Load\n",
    "y2 Cooling Load"
   ]
  },
  {
   "cell_type": "code",
   "execution_count": 2,
   "metadata": {},
   "outputs": [],
   "source": [
    "X = df.drop(columns=['Y1','Y2'])\n",
    "y1 = df['Y1']\n",
    "y2 = df['Y2']"
   ]
  },
  {
   "cell_type": "code",
   "execution_count": 3,
   "metadata": {},
   "outputs": [],
   "source": [
    "from sklearn.model_selection import train_test_split\n",
    "\n",
    "X_train, X_test, y_train, y_test = train_test_split(X,y1, test_size = 0.2, random_state = 42)"
   ]
  },
  {
   "cell_type": "code",
   "execution_count": 4,
   "metadata": {},
   "outputs": [
    {
     "data": {
      "text/plain": [
       "0.35011623376623324"
      ]
     },
     "execution_count": 4,
     "metadata": {},
     "output_type": "execute_result"
    }
   ],
   "source": [
    "from sklearn.ensemble import RandomForestRegressor\n",
    "from sklearn.metrics import mean_absolute_error\n",
    "\n",
    "\n",
    "clf = RandomForestRegressor().fit(X_train, y_train)\n",
    "y_pred = clf.predict(X_test)\n",
    "\n",
    "mean_absolute_error(y_test, y_pred)"
   ]
  },
  {
   "cell_type": "code",
   "execution_count": 5,
   "metadata": {},
   "outputs": [],
   "source": [
    "from sklearn.model_selection import train_test_split\n",
    "\n",
    "X_train, X_test, y_train, y_test = train_test_split(X,y2, test_size = 0.2, random_state = 42)"
   ]
  },
  {
   "cell_type": "code",
   "execution_count": 6,
   "metadata": {},
   "outputs": [
    {
     "data": {
      "text/plain": [
       "1.0903461038961042"
      ]
     },
     "execution_count": 6,
     "metadata": {},
     "output_type": "execute_result"
    }
   ],
   "source": [
    "from sklearn.ensemble import RandomForestRegressor\n",
    "from sklearn.metrics import mean_absolute_error\n",
    "\n",
    "\n",
    "clf = RandomForestRegressor().fit(X_train, y_train)\n",
    "y_pred = clf.predict(X_test)\n",
    "\n",
    "mean_absolute_error(y_test, y_pred)"
   ]
  },
  {
   "cell_type": "code",
   "execution_count": 7,
   "metadata": {},
   "outputs": [
    {
     "data": {
      "text/plain": [
       "['heatCoolLoad.joblib']"
      ]
     },
     "execution_count": 7,
     "metadata": {},
     "output_type": "execute_result"
    }
   ],
   "source": [
    "import joblib\n",
    "\n",
    "# Save the trained model to a file\n",
    "joblib.dump(clf, 'heatCoolLoad.joblib')"
   ]
  },
  {
   "cell_type": "code",
   "execution_count": 12,
   "metadata": {},
   "outputs": [
    {
     "name": "stdout",
     "output_type": "stream",
     "text": [
      "The predicted Heating Load value is: 17.841700000000014\n"
     ]
    },
    {
     "ename": "IndexError",
     "evalue": "index 1 is out of bounds for axis 0 with size 1",
     "output_type": "error",
     "traceback": [
      "\u001b[1;31m---------------------------------------------------------------------------\u001b[0m",
      "\u001b[1;31mIndexError\u001b[0m                                Traceback (most recent call last)",
      "Cell \u001b[1;32mIn[12], line 39\u001b[0m\n\u001b[0;32m     36\u001b[0m     \u001b[38;5;28mprint\u001b[39m(\u001b[38;5;124mf\u001b[39m\u001b[38;5;124m\"\u001b[39m\u001b[38;5;124mThe predicted Cooling Load value is: \u001b[39m\u001b[38;5;132;01m{\u001b[39;00mprediction[\u001b[38;5;241m1\u001b[39m]\u001b[38;5;132;01m}\u001b[39;00m\u001b[38;5;124m\"\u001b[39m)\n\u001b[0;32m     38\u001b[0m \u001b[38;5;66;03m# Call the function to get user input and predict\u001b[39;00m\n\u001b[1;32m---> 39\u001b[0m \u001b[43mpredict_heat_cool_load\u001b[49m\u001b[43m(\u001b[49m\u001b[43m)\u001b[49m\n",
      "Cell \u001b[1;32mIn[12], line 36\u001b[0m, in \u001b[0;36mpredict_heat_cool_load\u001b[1;34m()\u001b[0m\n\u001b[0;32m     33\u001b[0m prediction \u001b[38;5;241m=\u001b[39m clf_heat_cool_load\u001b[38;5;241m.\u001b[39mpredict(new_data_df)\n\u001b[0;32m     35\u001b[0m \u001b[38;5;28mprint\u001b[39m(\u001b[38;5;124mf\u001b[39m\u001b[38;5;124m\"\u001b[39m\u001b[38;5;124mThe predicted Heating Load value is: \u001b[39m\u001b[38;5;132;01m{\u001b[39;00mprediction[\u001b[38;5;241m0\u001b[39m]\u001b[38;5;132;01m}\u001b[39;00m\u001b[38;5;124m\"\u001b[39m)\n\u001b[1;32m---> 36\u001b[0m \u001b[38;5;28mprint\u001b[39m(\u001b[38;5;124mf\u001b[39m\u001b[38;5;124m\"\u001b[39m\u001b[38;5;124mThe predicted Cooling Load value is: \u001b[39m\u001b[38;5;132;01m{\u001b[39;00m\u001b[43mprediction\u001b[49m\u001b[43m[\u001b[49m\u001b[38;5;241;43m1\u001b[39;49m\u001b[43m]\u001b[49m\u001b[38;5;132;01m}\u001b[39;00m\u001b[38;5;124m\"\u001b[39m)\n",
      "\u001b[1;31mIndexError\u001b[0m: index 1 is out of bounds for axis 0 with size 1"
     ]
    }
   ],
   "source": [
    "import pandas as pd\n",
    "import joblib\n",
    "\n",
    "# Load the trained model\n",
    "clf_heat_cool_load = joblib.load('heatCoolLoad.joblib')\n",
    "\n",
    "def predict_heat_cool_load():\n",
    "\n",
    "    try:\n",
    "        # Get user input for the features\n",
    "        relative_compactness = float(input(\"Enter Relative Compactness (X1): \"))\n",
    "        surface_area = float(input(\"Enter Surface Area (X2): \"))\n",
    "        wall_area = float(input(\"Enter Wall Area (X3): \"))\n",
    "        roof_area = float(input(\"Enter Roof Area (X4): \"))\n",
    "        overall_height = float(input(\"Enter Overall Height (X5): \"))\n",
    "        orientation = float(input(\"Enter Orientation (X6): \"))\n",
    "        glazing_area = float(input(\"Enter Glazing Area (X7): \"))\n",
    "        glazing_area_distribution = float(input(\"Enter Glazing Area Distribution (X8): \"))\n",
    "    except ValueError:\n",
    "        print(\"Please enter numerical values for features.\")\n",
    "        return\n",
    "\n",
    "    # Create a dictionary with the user-input data\n",
    "    new_data = {'X1': [relative_compactness], 'X2': [surface_area],\n",
    "                'X3': [wall_area], 'X4': [roof_area], 'X5': [overall_height],\n",
    "                'X6': [orientation], 'X7': [glazing_area],\n",
    "                'X8': [glazing_area_distribution]}\n",
    "\n",
    "    # Create a DataFrame with the new data\n",
    "    new_data_df = pd.DataFrame(data=new_data)\n",
    "\n",
    "    # Make predictions using the trained model\n",
    "    prediction = clf_heat_cool_load.predict(new_data_df)\n",
    "\n",
    "    print(f\"The predicted Heating Load value is: {prediction[0]}\")\n",
    "    print(f\"The predicted Cooling Load value is: {prediction[1]}\")\n",
    "\n",
    "# Call the function to get user input and predict\n",
    "predict_heat_cool_load()\n"
   ]
  },
  {
   "cell_type": "code",
   "execution_count": 13,
   "metadata": {},
   "outputs": [
    {
     "name": "stdout",
     "output_type": "stream",
     "text": [
      "Mean Absolute Error for Heating Load: 0.3604064935064935\n",
      "Mean Absolute Error for Cooling Load: 1.0839636363636365\n"
     ]
    }
   ],
   "source": [
    "import pandas as pd\n",
    "from sklearn.model_selection import train_test_split\n",
    "from sklearn.ensemble import RandomForestRegressor\n",
    "from sklearn.metrics import mean_absolute_error\n",
    "import joblib\n",
    "\n",
    "# Load the dataset\n",
    "df = pd.read_csv(\"ENB2012_data.csv\")\n",
    "\n",
    "# Split the dataset into features (X) and target variables (y1 and y2)\n",
    "X = df.drop(columns=['Y1', 'Y2'])\n",
    "y1 = df['Y1']\n",
    "y2 = df['Y2']\n",
    "\n",
    "# Split the data for heating load (y1)\n",
    "X_train1, X_test1, y_train1, y_test1 = train_test_split(X, y1, test_size=0.2, random_state=42)\n",
    "\n",
    "# Train the model for heating load\n",
    "clf_heat = RandomForestRegressor().fit(X_train1, y_train1)\n",
    "y_pred1 = clf_heat.predict(X_test1)\n",
    "\n",
    "print(f\"Mean Absolute Error for Heating Load: {mean_absolute_error(y_test1, y_pred1)}\")\n",
    "\n",
    "# Save the trained heating model to a file\n",
    "joblib.dump(clf_heat, 'heatLoad.joblib')\n",
    "\n",
    "# Split the data for cooling load (y2)\n",
    "X_train2, X_test2, y_train2, y_test2 = train_test_split(X, y2, test_size=0.2, random_state=42)\n",
    "\n",
    "# Train the model for cooling load\n",
    "clf_cool = RandomForestRegressor().fit(X_train2, y_train2)\n",
    "y_pred2 = clf_cool.predict(X_test2)\n",
    "\n",
    "print(f\"Mean Absolute Error for Cooling Load: {mean_absolute_error(y_test2, y_pred2)}\")\n",
    "\n",
    "# Save the trained cooling model to a file\n",
    "joblib.dump(clf_cool, 'coolLoad.joblib')\n",
    "\n",
    "# Load the trained models\n",
    "clf_heat = joblib.load('heatLoad.joblib')\n",
    "clf_cool = joblib.load('coolLoad.joblib')\n"
   ]
  },
  {
   "cell_type": "code",
   "execution_count": 14,
   "metadata": {},
   "outputs": [
    {
     "name": "stdout",
     "output_type": "stream",
     "text": [
      "The predicted Heating Load value is: 16.942499999999985\n",
      "The predicted Cooling Load value is: 22.78729999999998\n"
     ]
    }
   ],
   "source": [
    "\n",
    "def predict_heat_cool_load():\n",
    "\n",
    "    try:\n",
    "        # Get user input for the features\n",
    "        relative_compactness = float(input(\"Enter Relative Compactness (X1): \"))\n",
    "        surface_area = float(input(\"Enter Surface Area (X2): \"))\n",
    "        wall_area = float(input(\"Enter Wall Area (X3): \"))\n",
    "        roof_area = float(input(\"Enter Roof Area (X4): \"))\n",
    "        overall_height = float(input(\"Enter Overall Height (X5): \"))\n",
    "        orientation = float(input(\"Enter Orientation (X6): \"))\n",
    "        glazing_area = float(input(\"Enter Glazing Area (X7): \"))\n",
    "        glazing_area_distribution = float(input(\"Enter Glazing Area Distribution (X8): \"))\n",
    "    except ValueError:\n",
    "        print(\"Please enter numerical values for features.\")\n",
    "        return\n",
    "\n",
    "    # Create a dictionary with the user-input data\n",
    "    new_data = {'X1': [relative_compactness], 'X2': [surface_area],\n",
    "                'X3': [wall_area], 'X4': [roof_area], 'X5': [overall_height],\n",
    "                'X6': [orientation], 'X7': [glazing_area],\n",
    "                'X8': [glazing_area_distribution]}\n",
    "\n",
    "    # Create a DataFrame with the new data\n",
    "    new_data_df = pd.DataFrame(data=new_data)\n",
    "\n",
    "    # Make predictions using the trained models\n",
    "    prediction_heat = clf_heat.predict(new_data_df)\n",
    "    prediction_cool = clf_cool.predict(new_data_df)\n",
    "\n",
    "    print(f\"The predicted Heating Load value is: {prediction_heat[0]}\")\n",
    "    print(f\"The predicted Cooling Load value is: {prediction_cool[0]}\")\n",
    "\n",
    "# Call the function to get user input and predict\n",
    "predict_heat_cool_load()\n"
   ]
  }
 ],
 "metadata": {
  "kernelspec": {
   "display_name": "Python 3",
   "language": "python",
   "name": "python3"
  },
  "language_info": {
   "codemirror_mode": {
    "name": "ipython",
    "version": 3
   },
   "file_extension": ".py",
   "mimetype": "text/x-python",
   "name": "python",
   "nbconvert_exporter": "python",
   "pygments_lexer": "ipython3",
   "version": "3.10.11"
  }
 },
 "nbformat": 4,
 "nbformat_minor": 2
}
