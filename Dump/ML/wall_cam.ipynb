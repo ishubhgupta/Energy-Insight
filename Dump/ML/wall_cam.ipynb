{
 "cells": [
  {
   "cell_type": "code",
   "execution_count": 18,
   "metadata": {},
   "outputs": [
    {
     "ename": "AttributeError",
     "evalue": "module 'cv2' has no attribute 'SFM'",
     "output_type": "error",
     "traceback": [
      "\u001b[1;31m---------------------------------------------------------------------------\u001b[0m",
      "\u001b[1;31mAttributeError\u001b[0m                            Traceback (most recent call last)",
      "Cell \u001b[1;32mIn[18], line 46\u001b[0m\n\u001b[0;32m     44\u001b[0m \u001b[38;5;66;03m# Example usage\u001b[39;00m\n\u001b[0;32m     45\u001b[0m image_paths \u001b[38;5;241m=\u001b[39m [\u001b[38;5;124m\"\u001b[39m\u001b[38;5;124mOIP2.jpeg\u001b[39m\u001b[38;5;124m\"\u001b[39m, \u001b[38;5;124m\"\u001b[39m\u001b[38;5;124mOIP3.jpeg\u001b[39m\u001b[38;5;124m\"\u001b[39m]  \u001b[38;5;66;03m# Provide multiple images taken from different viewpoints\u001b[39;00m\n\u001b[1;32m---> 46\u001b[0m width, height \u001b[38;5;241m=\u001b[39m \u001b[43mmeasure_wall_dimensions\u001b[49m\u001b[43m(\u001b[49m\u001b[43mimage_paths\u001b[49m\u001b[43m)\u001b[49m\n\u001b[0;32m     47\u001b[0m \u001b[38;5;28mprint\u001b[39m(\u001b[38;5;124m\"\u001b[39m\u001b[38;5;124mEstimated width:\u001b[39m\u001b[38;5;124m\"\u001b[39m, width, \u001b[38;5;124m\"\u001b[39m\u001b[38;5;124munits\u001b[39m\u001b[38;5;124m\"\u001b[39m)\n\u001b[0;32m     48\u001b[0m \u001b[38;5;28mprint\u001b[39m(\u001b[38;5;124m\"\u001b[39m\u001b[38;5;124mEstimated height:\u001b[39m\u001b[38;5;124m\"\u001b[39m, height, \u001b[38;5;124m\"\u001b[39m\u001b[38;5;124munits\u001b[39m\u001b[38;5;124m\"\u001b[39m)\n",
      "Cell \u001b[1;32mIn[18], line 27\u001b[0m, in \u001b[0;36mmeasure_wall_dimensions\u001b[1;34m(image_paths)\u001b[0m\n\u001b[0;32m     24\u001b[0m     matches\u001b[38;5;241m.\u001b[39mappend(matcher\u001b[38;5;241m.\u001b[39mmatch(descriptors[i], descriptors[i \u001b[38;5;241m+\u001b[39m \u001b[38;5;241m1\u001b[39m]))\n\u001b[0;32m     26\u001b[0m \u001b[38;5;66;03m# Initialize the structure-from-motion object\u001b[39;00m\n\u001b[1;32m---> 27\u001b[0m sfm \u001b[38;5;241m=\u001b[39m \u001b[43mcv2\u001b[49m\u001b[38;5;241;43m.\u001b[39;49m\u001b[43mSFM\u001b[49m()\n\u001b[0;32m     29\u001b[0m \u001b[38;5;66;03m# Estimate camera motion and 3D points\u001b[39;00m\n\u001b[0;32m     30\u001b[0m camera_poses, points_3d \u001b[38;5;241m=\u001b[39m sfm\u001b[38;5;241m.\u001b[39mreconstruct(images, keypoints, matches)\n",
      "\u001b[1;31mAttributeError\u001b[0m: module 'cv2' has no attribute 'SFM'"
     ]
    }
   ],
   "source": [
    "import cv2\n",
    "\n",
    "def measure_wall_dimensions(image_paths):\n",
    "    # Load images\n",
    "    images = [cv2.imread(path) for path in image_paths]\n",
    "\n",
    "    # Create a SIFT detector\n",
    "    sift = cv2.SIFT_create()\n",
    "\n",
    "    # Find keypoints and descriptors for all images\n",
    "    keypoints = []\n",
    "    descriptors = []\n",
    "    for img in images:\n",
    "        kp, des = sift.detectAndCompute(img, None)\n",
    "        keypoints.append(kp)\n",
    "        descriptors.append(des)\n",
    "\n",
    "    # Initialize a feature matcher\n",
    "    matcher = cv2.BFMatcher()\n",
    "\n",
    "    # Match descriptors between images\n",
    "    matches = []\n",
    "    for i in range(len(descriptors) - 1):\n",
    "        matches.append(matcher.match(descriptors[i], descriptors[i + 1]))\n",
    "\n",
    "    # Initialize the structure-from-motion object\n",
    "    sfm = cv2.SFM()\n",
    "\n",
    "    # Estimate camera motion and 3D points\n",
    "    camera_poses, points_3d = sfm.reconstruct(images, keypoints, matches)\n",
    "\n",
    "    # Calculate the distance between points to estimate wall dimensions\n",
    "    # For simplicity, we assume the wall is perpendicular to the ground plane\n",
    "    # and select points lying on the wall\n",
    "    wall_points = [point for point, pose in zip(points_3d, camera_poses) if pose[1][2] < 0]\n",
    "\n",
    "    # Measure wall dimensions\n",
    "    # For simplicity, we calculate the maximum and minimum coordinates along each axis\n",
    "    wall_width = max(point[0] for point in wall_points) - min(point[0] for point in wall_points)\n",
    "    wall_height = max(point[1] for point in wall_points) - min(point[1] for point in wall_points)\n",
    "\n",
    "    return wall_width, wall_height\n",
    "\n",
    "# Example usage\n",
    "image_paths = [\"OIP2.jpeg\", \"OIP3.jpeg\"]  # Provide multiple images taken from different viewpoints\n",
    "width, height = measure_wall_dimensions(image_paths)\n",
    "print(\"Estimated width:\", width, \"units\")\n",
    "print(\"Estimated height:\", height, \"units\")\n"
   ]
  }
 ],
 "metadata": {
  "kernelspec": {
   "display_name": "Python 3",
   "language": "python",
   "name": "python3"
  },
  "language_info": {
   "codemirror_mode": {
    "name": "ipython",
    "version": 3
   },
   "file_extension": ".py",
   "mimetype": "text/x-python",
   "name": "python",
   "nbconvert_exporter": "python",
   "pygments_lexer": "ipython3",
   "version": "3.10.11"
  }
 },
 "nbformat": 4,
 "nbformat_minor": 2
}
