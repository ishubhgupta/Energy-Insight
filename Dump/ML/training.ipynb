{
 "cells": [
  {
   "cell_type": "code",
   "execution_count": 1,
   "metadata": {},
   "outputs": [],
   "source": [
    "import pandas as pd"
   ]
  },
  {
   "cell_type": "code",
   "execution_count": 2,
   "metadata": {},
   "outputs": [],
   "source": [
    "from lightgbm import LGBMRegressor\n",
    "from sklearn.model_selection import train_test_split\n",
    "\n",
    "\n",
    "df = pd.read_csv(\"ENB2012_data.csv\")\n",
    "# new feature\n",
    "df['X9'] = (df['X3']/4)/df['X5']\n",
    "df['X10'] = 2 * (df['X5'] + df['X9'])\n",
    "\n",
    "# multiclass data distribution\n",
    "\n",
    "X = df.drop(columns=['Y1','Y2'])\n",
    "y1 = df['Y1']\n",
    "y2 = df['Y2']\n",
    "X_train, X_test, y_train, y_test = train_test_split(X,y1, test_size = 0.2, random_state = 42)\n",
    "clf1 = LGBMRegressor(learning_rate=0.1, max_depth=12, min_child_samples=10, n_estimators=2000, num_leaves=46).fit(X_train, y_train) #heating load\n",
    "# y_pred_1 = clf1.predict(X_test)\n"
   ]
  },
  {
   "cell_type": "code",
   "execution_count": 3,
   "metadata": {},
   "outputs": [
    {
     "data": {
      "text/plain": [
       "['heating_load.joblib']"
      ]
     },
     "execution_count": 3,
     "metadata": {},
     "output_type": "execute_result"
    }
   ],
   "source": [
    "from joblib import dump\n",
    "# Save model\n",
    "dump(clf1, 'heating_load.joblib')\n"
   ]
  },
  {
   "cell_type": "code",
   "execution_count": 4,
   "metadata": {},
   "outputs": [],
   "source": [
    "\n",
    "X_train, X_test, y_train, y_test = train_test_split(X,y2, test_size = 0.2, random_state = 42)\n",
    "clf2 = LGBMRegressor(learning_rate=0.1, max_depth=12, min_child_samples=10, n_estimators=2000, num_leaves=46).fit(X_train, y_train) # cooling load\n",
    "# y_pred_2 = clf2.predict(X_test)"
   ]
  },
  {
   "cell_type": "code",
   "execution_count": 5,
   "metadata": {},
   "outputs": [
    {
     "data": {
      "text/plain": [
       "['cooling_load.joblib']"
      ]
     },
     "execution_count": 5,
     "metadata": {},
     "output_type": "execute_result"
    }
   ],
   "source": [
    "from joblib import dump\n",
    "# Save model\n",
    "dump(clf2, 'cooling_load.joblib')"
   ]
  },
  {
   "cell_type": "code",
   "execution_count": null,
   "metadata": {},
   "outputs": [],
   "source": [
    "from joblib import load\n",
    "\n",
    "# Load the saved model\n",
    "model = load('model.joblib')\n",
    "\n",
    "# Now, you can use the loaded model to make predictions on new data\n",
    "predictions = model.predict(new_data)\n"
   ]
  }
 ],
 "metadata": {
  "kernelspec": {
   "display_name": "Python 3",
   "language": "python",
   "name": "python3"
  },
  "language_info": {
   "codemirror_mode": {
    "name": "ipython",
    "version": 3
   },
   "file_extension": ".py",
   "mimetype": "text/x-python",
   "name": "python",
   "nbconvert_exporter": "python",
   "pygments_lexer": "ipython3",
   "version": "3.10.11"
  }
 },
 "nbformat": 4,
 "nbformat_minor": 2
}
